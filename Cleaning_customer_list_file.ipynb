{
 "cells": [
  {
   "cell_type": "markdown",
   "id": "6891978d-eb9e-42bc-a803-5b104db4e2f5",
   "metadata": {},
   "source": [
    "# <u>**General Outline on Cleaning Data for Customer List**</u>\n",
    "\n",
    "Examine the Data:\n",
    "\n",
    "    -- Load the customer data into a DataFrame using pandas.\n",
    "    -- Review the data to understand what kind of cleaning is needed.\n",
    "\n",
    "Cleaning Steps:\n",
    "\n",
    "    -- Cleaning the Data found and filtering, sorting and grouping according to needs\n",
    "    -- Formatting and asssuming what the missing value means\n",
    "\n",
    "Export the Cleaned Data\n",
    "\n",
    "    -- Save the cleaned DataFrame as a .CSV file.\n",
    "    -- Confirm it saved correctly by loading and printing the first few rows\n",
    "\n",
    "Add relative commits and comments and save file.\n"
   ]
  },
  {
   "cell_type": "markdown",
   "id": "e00ddca4-faeb-4b18-a9f4-6752df1a5eb3",
   "metadata": {},
   "source": [
    "### Step 1: Importing Libraries\n",
    "Start by importing the necessary libraries:\n",
    "- **pandas** for data manipulation.\n",
    "- **numpy** for handling missing or null values.\n",
    "- **re** for regular expressions, if needed, which will help clean up the numbers and names.\n"
   ]
  },
  {
   "cell_type": "code",
   "execution_count": 1,
   "id": "fa8427ec-1586-45c8-9ed4-7e98b3c9c468",
   "metadata": {},
   "outputs": [],
   "source": [
    "# Importing the required libraries\n",
    "import pandas as pd\n",
    "import numpy as np\n",
    "import matplotlib as mplb\n",
    "# regex as re"
   ]
  },
  {
   "cell_type": "markdown",
   "id": "334d1337-fef7-4b57-bc39-05e2cae23f1c",
   "metadata": {},
   "source": [
    "Multiple different ways to get the input file, either by direct file name or by asking for the input"
   ]
  },
  {
   "cell_type": "code",
   "execution_count": 2,
   "id": "ae5a93e2-6219-48ec-b44a-d0df1d66b558",
   "metadata": {},
   "outputs": [
    {
     "ename": "KeyboardInterrupt",
     "evalue": "Interrupted by user",
     "output_type": "error",
     "traceback": [
      "\u001b[1;31m---------------------------------------------------------------------------\u001b[0m",
      "\u001b[1;31mKeyboardInterrupt\u001b[0m                         Traceback (most recent call last)",
      "Cell \u001b[1;32mIn[2], line 6\u001b[0m\n\u001b[0;32m      1\u001b[0m \u001b[38;5;66;03m# \"df\" was used to make a dataframe for the customer list using the read csv method, \"df\" was then used to display the dataset\u001b[39;00m\n\u001b[0;32m      2\u001b[0m \n\u001b[0;32m      3\u001b[0m     \u001b[38;5;66;03m#df = pd.read_csv('customer_list_updated.csv')\u001b[39;00m\n\u001b[0;32m      4\u001b[0m \n\u001b[0;32m      5\u001b[0m     \u001b[38;5;66;03m#Get the file path from the user\u001b[39;00m\n\u001b[1;32m----> 6\u001b[0m file_path \u001b[38;5;241m=\u001b[39m \u001b[38;5;28;43minput\u001b[39;49m\u001b[43m(\u001b[49m\u001b[38;5;124;43m\"\u001b[39;49m\u001b[38;5;124;43mEnter the file path:\u001b[39;49m\u001b[38;5;124;43m\"\u001b[39;49m\u001b[43m)\u001b[49m\n\u001b[0;32m      7\u001b[0m     \u001b[38;5;66;03m# Read the file into a DataFrame\u001b[39;00m\n\u001b[0;32m      8\u001b[0m \u001b[38;5;28;01mtry\u001b[39;00m:\n",
      "File \u001b[1;32m~\\AppData\\Roaming\\Python\\Python312\\site-packages\\ipykernel\\kernelbase.py:1282\u001b[0m, in \u001b[0;36mKernel.raw_input\u001b[1;34m(self, prompt)\u001b[0m\n\u001b[0;32m   1280\u001b[0m     msg \u001b[38;5;241m=\u001b[39m \u001b[38;5;124m\"\u001b[39m\u001b[38;5;124mraw_input was called, but this frontend does not support input requests.\u001b[39m\u001b[38;5;124m\"\u001b[39m\n\u001b[0;32m   1281\u001b[0m     \u001b[38;5;28;01mraise\u001b[39;00m StdinNotImplementedError(msg)\n\u001b[1;32m-> 1282\u001b[0m \u001b[38;5;28;01mreturn\u001b[39;00m \u001b[38;5;28;43mself\u001b[39;49m\u001b[38;5;241;43m.\u001b[39;49m\u001b[43m_input_request\u001b[49m\u001b[43m(\u001b[49m\n\u001b[0;32m   1283\u001b[0m \u001b[43m    \u001b[49m\u001b[38;5;28;43mstr\u001b[39;49m\u001b[43m(\u001b[49m\u001b[43mprompt\u001b[49m\u001b[43m)\u001b[49m\u001b[43m,\u001b[49m\n\u001b[0;32m   1284\u001b[0m \u001b[43m    \u001b[49m\u001b[38;5;28;43mself\u001b[39;49m\u001b[38;5;241;43m.\u001b[39;49m\u001b[43m_parent_ident\u001b[49m\u001b[43m[\u001b[49m\u001b[38;5;124;43m\"\u001b[39;49m\u001b[38;5;124;43mshell\u001b[39;49m\u001b[38;5;124;43m\"\u001b[39;49m\u001b[43m]\u001b[49m\u001b[43m,\u001b[49m\n\u001b[0;32m   1285\u001b[0m \u001b[43m    \u001b[49m\u001b[38;5;28;43mself\u001b[39;49m\u001b[38;5;241;43m.\u001b[39;49m\u001b[43mget_parent\u001b[49m\u001b[43m(\u001b[49m\u001b[38;5;124;43m\"\u001b[39;49m\u001b[38;5;124;43mshell\u001b[39;49m\u001b[38;5;124;43m\"\u001b[39;49m\u001b[43m)\u001b[49m\u001b[43m,\u001b[49m\n\u001b[0;32m   1286\u001b[0m \u001b[43m    \u001b[49m\u001b[43mpassword\u001b[49m\u001b[38;5;241;43m=\u001b[39;49m\u001b[38;5;28;43;01mFalse\u001b[39;49;00m\u001b[43m,\u001b[49m\n\u001b[0;32m   1287\u001b[0m \u001b[43m\u001b[49m\u001b[43m)\u001b[49m\n",
      "File \u001b[1;32m~\\AppData\\Roaming\\Python\\Python312\\site-packages\\ipykernel\\kernelbase.py:1325\u001b[0m, in \u001b[0;36mKernel._input_request\u001b[1;34m(self, prompt, ident, parent, password)\u001b[0m\n\u001b[0;32m   1322\u001b[0m \u001b[38;5;28;01mexcept\u001b[39;00m \u001b[38;5;167;01mKeyboardInterrupt\u001b[39;00m:\n\u001b[0;32m   1323\u001b[0m     \u001b[38;5;66;03m# re-raise KeyboardInterrupt, to truncate traceback\u001b[39;00m\n\u001b[0;32m   1324\u001b[0m     msg \u001b[38;5;241m=\u001b[39m \u001b[38;5;124m\"\u001b[39m\u001b[38;5;124mInterrupted by user\u001b[39m\u001b[38;5;124m\"\u001b[39m\n\u001b[1;32m-> 1325\u001b[0m     \u001b[38;5;28;01mraise\u001b[39;00m \u001b[38;5;167;01mKeyboardInterrupt\u001b[39;00m(msg) \u001b[38;5;28;01mfrom\u001b[39;00m \u001b[38;5;28;01mNone\u001b[39;00m\n\u001b[0;32m   1326\u001b[0m \u001b[38;5;28;01mexcept\u001b[39;00m \u001b[38;5;167;01mException\u001b[39;00m:\n\u001b[0;32m   1327\u001b[0m     \u001b[38;5;28mself\u001b[39m\u001b[38;5;241m.\u001b[39mlog\u001b[38;5;241m.\u001b[39mwarning(\u001b[38;5;124m\"\u001b[39m\u001b[38;5;124mInvalid Message:\u001b[39m\u001b[38;5;124m\"\u001b[39m, exc_info\u001b[38;5;241m=\u001b[39m\u001b[38;5;28;01mTrue\u001b[39;00m)\n",
      "\u001b[1;31mKeyboardInterrupt\u001b[0m: Interrupted by user"
     ]
    }
   ],
   "source": [
    "# \"df\" was used to make a dataframe for the customer list using the read csv method, \"df\" was then used to display the dataset\n",
    "\n",
    "    #df = pd.read_csv('customer_list_updated.csv')\n",
    "\n",
    "    #Get the file path from the user\n",
    "file_path = input(\"Enter the file path:\")\n",
    "    # Read the file into a DataFrame\n",
    "try:\n",
    "    df = pd.read_csv(file_path)\n",
    "    print(df.head())   # Print the first few rows of the DataFrame\n",
    "except FileNotFoundError:\n",
    "    print(\"File not found. Please check the file path.\")\n",
    "\n",
    "print(df)"
   ]
  },
  {
   "cell_type": "markdown",
   "id": "ba913631-c080-4cbd-8b41-d78b1268e5a9",
   "metadata": {},
   "source": [
    "In order to extract meaningful data, the data must be cleaned and sorted first, therefore, the dataset will now be cleaned and organized:"
   ]
  },
  {
   "cell_type": "markdown",
   "id": "8b03992c-f97a-47bf-84ff-fe59f9b9dadd",
   "metadata": {},
   "source": [
    "#### <u>Seperation of the data into columns:</u>"
   ]
  },
  {
   "cell_type": "code",
   "execution_count": null,
   "id": "88952645-ba2a-443f-9cf4-87a03ab6de17",
   "metadata": {},
   "outputs": [],
   "source": [
    "df.info() # df.info works too\n",
    "# This shows general information of the dataframe that was loaded"
   ]
  },
  {
   "cell_type": "markdown",
   "id": "2f2234a9-388b-4da6-bde7-4dbeb7dd6f34",
   "metadata": {},
   "source": [
    "The data info shows that ''< | >'' was originally used to seperate the data into columns. So the data will be split into 7 columns"
   ]
  },
  {
   "cell_type": "code",
   "execution_count": null,
   "id": "988e9520-ff60-4a9c-af21-050fb1e6aa23",
   "metadata": {},
   "outputs": [],
   "source": [
    "df.columns\n",
    "# This showed the trailing space at the end of final column name, as well as the column names/index needed to seperate the data."
   ]
  },
  {
   "cell_type": "code",
   "execution_count": null,
   "id": "9269419e-3673-4d0c-b010-d86935640e48",
   "metadata": {},
   "outputs": [],
   "source": [
    "df[['cust_id', 'date', 'time',  'name',  'email', 'phone', 'sms-opt-out']] = df['cust_id|date|time|name|email|phone|sms-opt-out '].str.split('|',expand = True)\n",
    "df\n",
    "# split string method [ .split() ] was used to seperate the columns with ' <|> '"
   ]
  },
  {
   "cell_type": "code",
   "execution_count": null,
   "id": "672eebc1-f259-48d9-b28c-fe89cacb1bd4",
   "metadata": {},
   "outputs": [],
   "source": [
    "df = df.drop('cust_id|date|time|name|email|phone|sms-opt-out ' , axis=1)\n",
    "df\n",
    "# Remove the duplicate leftmost column for the cleanup of dataset 'df', display 'df' to see results"
   ]
  },
  {
   "cell_type": "code",
   "execution_count": null,
   "id": "dd946e9a-d40e-465b-8e1c-e3a451a3d888",
   "metadata": {},
   "outputs": [],
   "source": [
    "df.describe()\n",
    "# Needed more index information to display dataset correctly, therefore used [ .describe() ] method"
   ]
  },
  {
   "cell_type": "markdown",
   "id": "1eebb2eb-6273-4bea-88ab-343032e80b5b",
   "metadata": {},
   "source": [
    "This shows that there are 521 different rows with their own different unique values and that it matches what df.info showed us"
   ]
  },
  {
   "cell_type": "code",
   "execution_count": null,
   "id": "147e38fd-5b60-4adb-be41-eba1c43b332b",
   "metadata": {},
   "outputs": [],
   "source": [
    "# Used the customer ID column as the index to refer to the table with ease later on\n",
    "df= df.set_index('cust_id')\n",
    "df"
   ]
  },
  {
   "cell_type": "markdown",
   "id": "afe6b395-b33e-4b04-9321-34f2103809fb",
   "metadata": {},
   "source": [
    "### <u> The Actual Data Cleaning:</u>"
   ]
  },
  {
   "cell_type": "code",
   "execution_count": null,
   "id": "b279e916-6387-4e1a-991b-03ddaea04ea5",
   "metadata": {},
   "outputs": [],
   "source": [
    "pd. set_option('display.max_rows' , None) \n",
    "df\n",
    "# Used to show all rows, to see what needs cleaning"
   ]
  },
  {
   "cell_type": "code",
   "execution_count": null,
   "id": "8af60302-423c-4b05-a2bb-1bed8b0d1f94",
   "metadata": {},
   "outputs": [],
   "source": [
    "df ['phone']= df ['phone'].fillna('N/A')\n",
    "df\n",
    "# 'N/A' for phone column was used to replace 'None' values"
   ]
  },
  {
   "cell_type": "code",
   "execution_count": null,
   "id": "69d8740a-f343-43e7-a9ed-81050a7062cd",
   "metadata": {
    "scrolled": true
   },
   "outputs": [],
   "source": [
    "df [\"sms-opt-out\"]= df[\"sms-opt-out\"].fillna(\"Y\")\n",
    "df\n",
    "# Similiar for the SMS opt out column, 'None' was replaced with \"Y\" to opt out customers."
   ]
  },
  {
   "cell_type": "code",
   "execution_count": null,
   "id": "cf30ec7e-4195-4acc-8514-4b19bea8a0cf",
   "metadata": {},
   "outputs": [],
   "source": [
    "# Function to format phone numbers with optional leading code between 1 and 99\n",
    "def format_phone_number(number):\n",
    "    # Ensure number is a string and remove any non-digit characters, also to remove the hyphens.\n",
    "    clean_number = ''.join(filter(str.isdigit, str(number)))\n",
    "    \n",
    "# Check if the number has 11 digits and the first two digits are between 01 and 99\n",
    "    if len(clean_number) >= 11:\n",
    "    # Remove the first digits from +11 phone number\n",
    "    # Indexed from the rear and inversed the string back to front to get clean string\n",
    "        clean_number = clean_number[:-11:-1][::-1]\n",
    "    \n",
    "# Check if the resulting number has exactly 10 digits\n",
    "    if len(clean_number) == 10:\n",
    "    # Format it as NNN-NNN-NNNN\n",
    "        return f\"{clean_number[:3]}-{clean_number[3:6]}-{clean_number[6:]}\"\n",
    "    else:\n",
    "        return \"Invalid number\"\n",
    "\n",
    "# Apply the function to the 'phone' column, directly replacing it\n",
    "df['phone'] = df['phone'].apply(format_phone_number)\n",
    "\n",
    "# Print results\n",
    "df\n",
    "\n",
    "# formatting all phone numbers into the NNN-NNN-NNNN format and adding extra validation, in case of international numbers"
   ]
  },
  {
   "cell_type": "markdown",
   "id": "db4c8a06-bd8b-4e50-9bee-0bee59585660",
   "metadata": {},
   "source": [
    "This formatting of the phone number takes into account extra validation, as well as making sure any extra numbers added to dataframe in the future is formatted correctly"
   ]
  },
  {
   "cell_type": "code",
   "execution_count": null,
   "id": "bfac19ed-3430-4be0-9957-adf56c982711",
   "metadata": {},
   "outputs": [],
   "source": [
    "for name in df.columns:\n",
    "    df['name'] = df['name'].str.strip('^')\n",
    "    df['name']= df ['name'].str.replace(' [\\']','\\' ')\n",
    "    df ['name']= df['name'].str.replace('&!','.')\n",
    "df\n",
    "# Replacing all numeric and non-alphabetic values in the name column"
   ]
  },
  {
   "cell_type": "code",
   "execution_count": null,
   "id": "90610112-0dc7-46a3-8e07-5ec93845d4c8",
   "metadata": {},
   "outputs": [],
   "source": [
    "cleaned_df = df\n",
    "cleaned_df\n",
    "# Assigned to a new clean variable to for easier future access"
   ]
  },
  {
   "cell_type": "markdown",
   "id": "4f15cb46-61e5-48b7-b141-511e8b7127a5",
   "metadata": {},
   "source": [
    "Assigned the final cleaned Dataframe to a new clean, variable to make easier use for extraction and accessing"
   ]
  },
  {
   "cell_type": "code",
   "execution_count": null,
   "id": "ecf41f2e-bc40-422f-8e01-0d1e78de4a15",
   "metadata": {},
   "outputs": [],
   "source": [
    "df.to_csv('Final_updated_customer_list.csv', index=False)\n",
    "print('New File has been saved as \"Final_updated_customer_list.csv\" ')"
   ]
  },
  {
   "cell_type": "markdown",
   "id": "8d4f7bcc-d939-4c08-8639-ae750191bedc",
   "metadata": {},
   "source": [
    "**Thank you for following along!**"
   ]
  }
 ],
 "metadata": {
  "kernelspec": {
   "display_name": "Python 3 (ipykernel)",
   "language": "python",
   "name": "python3"
  },
  "language_info": {
   "codemirror_mode": {
    "name": "ipython",
    "version": 3
   },
   "file_extension": ".py",
   "mimetype": "text/x-python",
   "name": "python",
   "nbconvert_exporter": "python",
   "pygments_lexer": "ipython3",
   "version": "3.12.6"
  }
 },
 "nbformat": 4,
 "nbformat_minor": 5
}
