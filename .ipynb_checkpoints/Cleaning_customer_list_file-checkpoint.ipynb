{
 "cells": [
  {
   "cell_type": "markdown",
   "id": "6891978d-eb9e-42bc-a803-5b104db4e2f5",
   "metadata": {},
   "source": [
    "# Extract Data rough \n",
    "\n",
    "Load the Data: Read in the customer data file using Python (either in a script or Jupyter Notebook).\n",
    "\n",
    "\n",
    "Code: Use pd.read_csv(\"file_path.csv\") if it’s CSV file. This loads the data as a DataFrame.\n",
    "\n",
    "\n",
    "Preview the Data: Check the structure and contents by using .head() and .info() on the DataFrame."
   ]
  },
  {
   "cell_type": "markdown",
   "id": "f91ba26e-0a73-4290-9385-cdf995f81d0f",
   "metadata": {},
   "source": [
    "Cleaning Steps rough\n",
    "\n",
    "Step-by-Step Instructions:\n",
    "\n",
    "Names: Use regex to keep only letters, hyphens, and periods.\n",
    "Code example:\n",
    "python\n",
    "Copy code\n",
    "df['name'] = df['name'].str.replace(r\"[^a-zA-Z\\.\\- ]\", \"\", regex=True)\n",
    "Phone Numbers: Ensure each number follows the NNN-NNN-NNNN format. Use a function to format and correct phone numbers.\n",
    "Code example:\n",
    "python\n",
    "Copy code\n",
    "def format_phone(phone):\n",
    "    # Apply phone formatting here\n",
    "    return formatted_phone\n",
    "df['phone'] = df['phone'].apply(format_phone)\n",
    "sms-opt-out Field: Decide how to handle blanks based on research or a logical assumption (e.g., assume blanks mean opt-out)."
   ]
  }
 ],
 "metadata": {
  "kernelspec": {
   "display_name": "Python 3 (ipykernel)",
   "language": "python",
   "name": "python3"
  },
  "language_info": {
   "codemirror_mode": {
    "name": "ipython",
    "version": 3
   },
   "file_extension": ".py",
   "mimetype": "text/x-python",
   "name": "python",
   "nbconvert_exporter": "python",
   "pygments_lexer": "ipython3",
   "version": "3.12.6"
  }
 },
 "nbformat": 4,
 "nbformat_minor": 5
}
