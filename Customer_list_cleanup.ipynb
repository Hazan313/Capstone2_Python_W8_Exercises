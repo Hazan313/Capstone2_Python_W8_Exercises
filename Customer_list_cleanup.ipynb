{
 "cells": [
  {
   "cell_type": "markdown",
   "id": "6891978d-eb9e-42bc-a803-5b104db4e2f5",
   "metadata": {},
   "source": [
    "# Extract Data rough \n",
    "\n",
    "Load the Data: Read in the customer data file using Python (either in a script or Jupyter Notebook).\n",
    "\n",
    "\n",
    "Code: Use pd.read_csv(\"file_path.csv\") if it’s CSV file. This loads the data as a DataFrame.\n",
    "\n",
    "\n",
    "Preview the Data: Check the structure and contents by using .head() and .info() on the DataFrame."
   ]
  },
  {
   "cell_type": "markdown",
   "id": "f91ba26e-0a73-4290-9385-cdf995f81d0f",
   "metadata": {},
   "source": [
    "Cleaning Steps rough\n",
    "\n",
    "Step-by-Step Instructions:\n",
    "\n",
    "Names: Use regex to keep only letters, hyphens, and periods.\n",
    "Code example:\n",
    "python\n",
    "Copy code\n",
    "df['name'] = df['name'].str.replace(r\"[^a-zA-Z\\.\\- ]\", \"\", regex=True)\n",
    "Phone Numbers: Ensure each number follows the NNN-NNN-NNNN format. Use a function to format and correct phone numbers.\n",
    "Code example:\n",
    "python\n",
    "Copy code\n",
    "def format_phone(phone):\n",
    "    # Apply phone formatting here\n",
    "    return formatted_phone\n",
    "df['phone'] = df['phone'].apply(format_phone)\n",
    "sms-opt-out Field: Decide how to handle blanks based on research or a logical assumption (e.g., assume blanks mean opt-out)."
   ]
  },
  {
   "cell_type": "markdown",
   "id": "e00ddca4-faeb-4b18-a9f4-6752df1a5eb3",
   "metadata": {},
   "source": [
    "### Step 1: Importing Libraries\n",
    "Start by importing the necessary libraries:\n",
    "- **pandas** for data manipulation.\n",
    "- **numpy** for handling missing or null values.\n",
    "- **re** for regular expressions, which will help clean up the numbers and names.\n"
   ]
  },
  {
   "cell_type": "code",
   "execution_count": 8,
   "id": "fa8427ec-1586-45c8-9ed4-7e98b3c9c468",
   "metadata": {},
   "outputs": [],
   "source": [
    "# Importing the required libraries\n",
    "import pandas as pd\n",
    "import numpy as np\n",
    "import matplotlib as mplb\n"
   ]
  },
  {
   "cell_type": "markdown",
   "id": "3a59c62c-87cc-4f4c-84f4-f15cb7b47e57",
   "metadata": {},
   "source": [
    "### Step 2: Loading the Customer Data\n",
    "Load the customer data from the CSV file (`customer_list_updated.csv`) into a pandas DataFrame. By using the `.head()` function, we can view the first few rows of the data to inspect its structure and identify any issues.\n"
   ]
  },
  {
   "cell_type": "code",
   "execution_count": 9,
   "id": "e6967810-90d7-4f13-a371-01641e159de3",
   "metadata": {},
   "outputs": [
    {
     "data": {
      "text/html": [
       "<div>\n",
       "<style scoped>\n",
       "    .dataframe tbody tr th:only-of-type {\n",
       "        vertical-align: middle;\n",
       "    }\n",
       "\n",
       "    .dataframe tbody tr th {\n",
       "        vertical-align: top;\n",
       "    }\n",
       "\n",
       "    .dataframe thead th {\n",
       "        text-align: right;\n",
       "    }\n",
       "</style>\n",
       "<table border=\"1\" class=\"dataframe\">\n",
       "  <thead>\n",
       "    <tr style=\"text-align: right;\">\n",
       "      <th></th>\n",
       "      <th>cust_id|date|time|name|email|phone|sms-opt-out</th>\n",
       "    </tr>\n",
       "  </thead>\n",
       "  <tbody>\n",
       "    <tr>\n",
       "      <th>0</th>\n",
       "      <td>1|2023-03-15|08:45:12|Rachel|rachel@centralper...</td>\n",
       "    </tr>\n",
       "    <tr>\n",
       "      <th>1</th>\n",
       "      <td>2|2023-05-22|12:30:45|R&amp;! Geller|rossg@central...</td>\n",
       "    </tr>\n",
       "    <tr>\n",
       "      <th>2</th>\n",
       "      <td>3|2023-07-09|18:15:27|Monica Geller|chefmonica...</td>\n",
       "    </tr>\n",
       "    <tr>\n",
       "      <th>3</th>\n",
       "      <td>4|2023-09-01|21:05:33|Chandler Bing|chandlerb@...</td>\n",
       "    </tr>\n",
       "    <tr>\n",
       "      <th>4</th>\n",
       "      <td>5|2023-11-18|14:22:10|Joey|howyoudoing@central...</td>\n",
       "    </tr>\n",
       "  </tbody>\n",
       "</table>\n",
       "</div>"
      ],
      "text/plain": [
       "     cust_id|date|time|name|email|phone|sms-opt-out \n",
       "0  1|2023-03-15|08:45:12|Rachel|rachel@centralper...\n",
       "1  2|2023-05-22|12:30:45|R&! Geller|rossg@central...\n",
       "2  3|2023-07-09|18:15:27|Monica Geller|chefmonica...\n",
       "3  4|2023-09-01|21:05:33|Chandler Bing|chandlerb@...\n",
       "4  5|2023-11-18|14:22:10|Joey|howyoudoing@central..."
      ]
     },
     "execution_count": 9,
     "metadata": {},
     "output_type": "execute_result"
    }
   ],
   "source": [
    "file_path = \"customer_list_updated.csv\"\n",
    "customer_data = pd.read_csv(file_path)\n",
    "customer_data.head()"
   ]
  },
  {
   "cell_type": "markdown",
   "id": "a94a8742-1b4a-4090-bb55-79d5a14fdaa9",
   "metadata": {
    "jp-MarkdownHeadingCollapsed": true
   },
   "source": [
    "### Step 3: Cleaning the 'Name' Field\n",
    "Clean the 'Name' field, we define a function `clean_name()` that uses a regular expression to remove any characters that are not letters, hyphens, or periods. This ensures the names follow the correct format. The function is then applied to the 'Name' column, and we preview the cleaned results.\n"
   ]
  },
  {
   "cell_type": "code",
   "execution_count": 10,
   "id": "4ef4b6cf-3d37-4c06-8276-030cf8ac09b1",
   "metadata": {},
   "outputs": [
    {
     "ename": "KeyError",
     "evalue": "'name'",
     "output_type": "error",
     "traceback": [
      "\u001b[1;31m---------------------------------------------------------------------------\u001b[0m",
      "\u001b[1;31mKeyError\u001b[0m                                  Traceback (most recent call last)",
      "File \u001b[1;32m~\\AppData\\Roaming\\Python\\Python312\\site-packages\\pandas\\core\\indexes\\base.py:3805\u001b[0m, in \u001b[0;36mIndex.get_loc\u001b[1;34m(self, key)\u001b[0m\n\u001b[0;32m   3804\u001b[0m \u001b[38;5;28;01mtry\u001b[39;00m:\n\u001b[1;32m-> 3805\u001b[0m     \u001b[38;5;28;01mreturn\u001b[39;00m \u001b[38;5;28;43mself\u001b[39;49m\u001b[38;5;241;43m.\u001b[39;49m\u001b[43m_engine\u001b[49m\u001b[38;5;241;43m.\u001b[39;49m\u001b[43mget_loc\u001b[49m\u001b[43m(\u001b[49m\u001b[43mcasted_key\u001b[49m\u001b[43m)\u001b[49m\n\u001b[0;32m   3806\u001b[0m \u001b[38;5;28;01mexcept\u001b[39;00m \u001b[38;5;167;01mKeyError\u001b[39;00m \u001b[38;5;28;01mas\u001b[39;00m err:\n",
      "File \u001b[1;32mindex.pyx:167\u001b[0m, in \u001b[0;36mpandas._libs.index.IndexEngine.get_loc\u001b[1;34m()\u001b[0m\n",
      "File \u001b[1;32mindex.pyx:196\u001b[0m, in \u001b[0;36mpandas._libs.index.IndexEngine.get_loc\u001b[1;34m()\u001b[0m\n",
      "File \u001b[1;32mpandas\\\\_libs\\\\hashtable_class_helper.pxi:7081\u001b[0m, in \u001b[0;36mpandas._libs.hashtable.PyObjectHashTable.get_item\u001b[1;34m()\u001b[0m\n",
      "File \u001b[1;32mpandas\\\\_libs\\\\hashtable_class_helper.pxi:7089\u001b[0m, in \u001b[0;36mpandas._libs.hashtable.PyObjectHashTable.get_item\u001b[1;34m()\u001b[0m\n",
      "\u001b[1;31mKeyError\u001b[0m: 'name'",
      "\nThe above exception was the direct cause of the following exception:\n",
      "\u001b[1;31mKeyError\u001b[0m                                  Traceback (most recent call last)",
      "Cell \u001b[1;32mIn[10], line 8\u001b[0m\n\u001b[0;32m      5\u001b[0m     \u001b[38;5;28;01mreturn\u001b[39;00m cleaned_name\n\u001b[0;32m      7\u001b[0m \u001b[38;5;66;03m# Apply the function to the 'Name' column\u001b[39;00m\n\u001b[1;32m----> 8\u001b[0m customer_data[\u001b[38;5;124m'\u001b[39m\u001b[38;5;124mname\u001b[39m\u001b[38;5;124m'\u001b[39m] \u001b[38;5;241m=\u001b[39m \u001b[43mcustomer_data\u001b[49m\u001b[43m[\u001b[49m\u001b[38;5;124;43m'\u001b[39;49m\u001b[38;5;124;43mname\u001b[39;49m\u001b[38;5;124;43m'\u001b[39;49m\u001b[43m]\u001b[49m\u001b[38;5;241m.\u001b[39mapply(clean_name)\n\u001b[0;32m     10\u001b[0m \u001b[38;5;66;03m# Display the cleaned data preview\u001b[39;00m\n\u001b[0;32m     11\u001b[0m customer_data[[\u001b[38;5;124m'\u001b[39m\u001b[38;5;124mname\u001b[39m\u001b[38;5;124m'\u001b[39m]]\u001b[38;5;241m.\u001b[39mhead()\n",
      "File \u001b[1;32m~\\AppData\\Roaming\\Python\\Python312\\site-packages\\pandas\\core\\frame.py:4102\u001b[0m, in \u001b[0;36mDataFrame.__getitem__\u001b[1;34m(self, key)\u001b[0m\n\u001b[0;32m   4100\u001b[0m \u001b[38;5;28;01mif\u001b[39;00m \u001b[38;5;28mself\u001b[39m\u001b[38;5;241m.\u001b[39mcolumns\u001b[38;5;241m.\u001b[39mnlevels \u001b[38;5;241m>\u001b[39m \u001b[38;5;241m1\u001b[39m:\n\u001b[0;32m   4101\u001b[0m     \u001b[38;5;28;01mreturn\u001b[39;00m \u001b[38;5;28mself\u001b[39m\u001b[38;5;241m.\u001b[39m_getitem_multilevel(key)\n\u001b[1;32m-> 4102\u001b[0m indexer \u001b[38;5;241m=\u001b[39m \u001b[38;5;28;43mself\u001b[39;49m\u001b[38;5;241;43m.\u001b[39;49m\u001b[43mcolumns\u001b[49m\u001b[38;5;241;43m.\u001b[39;49m\u001b[43mget_loc\u001b[49m\u001b[43m(\u001b[49m\u001b[43mkey\u001b[49m\u001b[43m)\u001b[49m\n\u001b[0;32m   4103\u001b[0m \u001b[38;5;28;01mif\u001b[39;00m is_integer(indexer):\n\u001b[0;32m   4104\u001b[0m     indexer \u001b[38;5;241m=\u001b[39m [indexer]\n",
      "File \u001b[1;32m~\\AppData\\Roaming\\Python\\Python312\\site-packages\\pandas\\core\\indexes\\base.py:3812\u001b[0m, in \u001b[0;36mIndex.get_loc\u001b[1;34m(self, key)\u001b[0m\n\u001b[0;32m   3807\u001b[0m     \u001b[38;5;28;01mif\u001b[39;00m \u001b[38;5;28misinstance\u001b[39m(casted_key, \u001b[38;5;28mslice\u001b[39m) \u001b[38;5;129;01mor\u001b[39;00m (\n\u001b[0;32m   3808\u001b[0m         \u001b[38;5;28misinstance\u001b[39m(casted_key, abc\u001b[38;5;241m.\u001b[39mIterable)\n\u001b[0;32m   3809\u001b[0m         \u001b[38;5;129;01mand\u001b[39;00m \u001b[38;5;28many\u001b[39m(\u001b[38;5;28misinstance\u001b[39m(x, \u001b[38;5;28mslice\u001b[39m) \u001b[38;5;28;01mfor\u001b[39;00m x \u001b[38;5;129;01min\u001b[39;00m casted_key)\n\u001b[0;32m   3810\u001b[0m     ):\n\u001b[0;32m   3811\u001b[0m         \u001b[38;5;28;01mraise\u001b[39;00m InvalidIndexError(key)\n\u001b[1;32m-> 3812\u001b[0m     \u001b[38;5;28;01mraise\u001b[39;00m \u001b[38;5;167;01mKeyError\u001b[39;00m(key) \u001b[38;5;28;01mfrom\u001b[39;00m \u001b[38;5;21;01merr\u001b[39;00m\n\u001b[0;32m   3813\u001b[0m \u001b[38;5;28;01mexcept\u001b[39;00m \u001b[38;5;167;01mTypeError\u001b[39;00m:\n\u001b[0;32m   3814\u001b[0m     \u001b[38;5;66;03m# If we have a listlike key, _check_indexing_error will raise\u001b[39;00m\n\u001b[0;32m   3815\u001b[0m     \u001b[38;5;66;03m#  InvalidIndexError. Otherwise we fall through and re-raise\u001b[39;00m\n\u001b[0;32m   3816\u001b[0m     \u001b[38;5;66;03m#  the TypeError.\u001b[39;00m\n\u001b[0;32m   3817\u001b[0m     \u001b[38;5;28mself\u001b[39m\u001b[38;5;241m.\u001b[39m_check_indexing_error(key)\n",
      "\u001b[1;31mKeyError\u001b[0m: 'name'"
     ]
    }
   ],
   "source": [
    "# Function to clean the 'Name' field\n",
    "def clean_name(name):\n",
    "    # Allow only letters, hyphens, and periods in the name\n",
    "    cleaned_name = re.sub(r'[^a-zA-Z\\s\\-\\.]', '', name)\n",
    "    return cleaned_name\n",
    "\n",
    "# Apply the function to the 'Name' column\n",
    "customer_data['name'] = customer_data['name'].apply(clean_name)\n",
    "\n",
    "# Display the cleaned data preview\n",
    "customer_data[['name']].head()\n"
   ]
  },
  {
   "cell_type": "code",
   "execution_count": null,
   "id": "ad6bcf36-1a3d-4832-ae3d-4a863e397b71",
   "metadata": {},
   "outputs": [],
   "source": []
  },
  {
   "cell_type": "code",
   "execution_count": null,
   "id": "6a436e00-d660-468d-98d3-477b7bfe6f82",
   "metadata": {},
   "outputs": [],
   "source": []
  }
 ],
 "metadata": {
  "kernelspec": {
   "display_name": "Python 3 (ipykernel)",
   "language": "python",
   "name": "python3"
  },
  "language_info": {
   "codemirror_mode": {
    "name": "ipython",
    "version": 3
   },
   "file_extension": ".py",
   "mimetype": "text/x-python",
   "name": "python",
   "nbconvert_exporter": "python",
   "pygments_lexer": "ipython3",
   "version": "3.12.6"
  }
 },
 "nbformat": 4,
 "nbformat_minor": 5
}
